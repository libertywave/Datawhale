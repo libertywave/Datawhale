{
 "cells": [
  {
   "cell_type": "markdown",
   "metadata": {},
   "source": [
    "# Q1:赋值，浅拷贝和深拷贝的区别\n",
    "- 直接赋值是一个完完全全的引用，对新变量的任何改动都会影响到原对象\n",
    "- 浅拷贝创建了新的对象，但是只拷贝了序列的元素，对于元素也是一个序列的情况（即子对象），只复制了对这个序列的引用\n",
    "- 深拷贝是完完全全的拷贝，把原对象完整地拷贝到了新对象中"
   ]
  },
  {
   "cell_type": "markdown",
   "metadata": {},
   "source": [
    "### 一、赋值"
   ]
  },
  {
   "cell_type": "code",
   "execution_count": 48,
   "metadata": {},
   "outputs": [
    {
     "name": "stdout",
     "output_type": "stream",
     "text": [
      "2830419918536 2830419918536\n",
      "[9, 'liberty', [2, 4, 6]]\n",
      "[9, 'liberty', [2, 4, 6]]\n",
      "[9, 'liberty', [2, 4, 7]]\n",
      "[9, 'liberty', [2, 4, 7]]\n",
      "2830419918536\n",
      "2830419918536\n"
     ]
    }
   ],
   "source": [
    "# 赋值是完全的对原对象的引用，对任意对象的引用都会改变另外一个\n",
    "origin = [5,'liberty',[2,4,6]]\n",
    "new = origin\n",
    "print(id(origin),id(new))\n",
    "new[0] = 9\n",
    "print(origin)\n",
    "print(new)\n",
    "new[2][2] = 7\n",
    "print(origin)\n",
    "print(new)\n",
    "print(id(origin))\n",
    "print(id(new))"
   ]
  },
  {
   "cell_type": "markdown",
   "metadata": {},
   "source": [
    "### 二、浅拷贝"
   ]
  },
  {
   "cell_type": "code",
   "execution_count": 49,
   "metadata": {
    "scrolled": true
   },
   "outputs": [
    {
     "name": "stdout",
     "output_type": "stream",
     "text": [
      "2830419510856 [5, 'liberty', [2, 4, 6]]\n",
      "2830420689416 [5, 'liberty', [2, 4, 6]]\n",
      "------------------------------\n",
      "2830419510856 [5, 'liberty', [2, 4, 6]]\n",
      "2830420689416 [222, 'liberty', [2, 4, 6]]\n",
      "------------------------------\n",
      "2830419510856 [5, 'libertywave', [2, 4, 6]]\n",
      "2830420689416 [222, 'liberty', [2, 4, 6]]\n",
      "------------------------------\n",
      "2830419510856 [5, 'libertywave', [2, 4, 999]]\n",
      "2830420689416 [222, 'liberty', [2, 4, 999]]\n",
      "------------------------------\n",
      "2830419504200\n",
      "2830419504200\n"
     ]
    }
   ],
   "source": [
    "# 调用copy()函数实现浅拷贝，可以发现内存地址发生了改变，说明生成了新的值，对元素修改不会改变另一个值\n",
    "# 但是对子对象修改会影响另外一个值,发现子对象的内存地址是一样的\n",
    "import copy\n",
    "origin = [5,'liberty',[2,4,6]]\n",
    "new = copy.copy(origin)\n",
    "print(id(origin),origin)\n",
    "print(id(new),new)\n",
    "print('-'*30)\n",
    "new[0] = 222\n",
    "print(id(origin),origin)\n",
    "print(id(new),new)\n",
    "print('-'*30)\n",
    "origin[1] = 'libertywave'\n",
    "print(id(origin),origin)\n",
    "print(id(new),new)\n",
    "print('-'*30)\n",
    "new[2][2] = 999\n",
    "print(id(origin),origin)\n",
    "print(id(new),new)\n",
    "print('-'*30)\n",
    "print(id(origin[2]))\n",
    "print(id(new[2]))"
   ]
  },
  {
   "cell_type": "markdown",
   "metadata": {},
   "source": [
    "### 三、浅拷贝"
   ]
  },
  {
   "cell_type": "code",
   "execution_count": 50,
   "metadata": {},
   "outputs": [
    {
     "name": "stdout",
     "output_type": "stream",
     "text": [
      "2830419902920 [5, 'liberty', [2, 4, 6]]\n",
      "2830420669256 [5, 'liberty', [2, 4, 6]]\n",
      "------------------------------\n",
      "2830419902920 [5, 'liberty', [2, 4, 6]]\n",
      "2830420669256 [222, 'liberty', [2, 4, 6]]\n",
      "------------------------------\n",
      "2830419902920 [5, 'libertywave', [2, 4, 6]]\n",
      "2830420669256 [222, 'liberty', [2, 4, 6]]\n",
      "------------------------------\n",
      "2830419902920 [5, 'libertywave', [2, 4, 6]]\n",
      "2830420669256 [222, 'liberty', [2, 4, 999]]\n",
      "------------------------------\n",
      "2830420689928\n",
      "2830419368584\n"
     ]
    }
   ],
   "source": [
    "# 调用deepcopy()函数实现深拷贝，发现二者互不影响，内存地址也不同，生成了新的对象\n",
    "import copy\n",
    "origin = [5,'liberty',[2,4,6]]\n",
    "new = copy.deepcopy(origin)\n",
    "print(id(origin),origin)\n",
    "print(id(new),new)\n",
    "print('-'*30)\n",
    "new[0] = 222\n",
    "print(id(origin),origin)\n",
    "print(id(new),new)\n",
    "print('-'*30)\n",
    "origin[1] = 'libertywave'\n",
    "print(id(origin),origin)\n",
    "print(id(new),new)\n",
    "print('-'*30)\n",
    "new[2][2] = 999\n",
    "print(id(origin),origin)\n",
    "print(id(new),new)\n",
    "print('-'*30)\n",
    "print(id(origin[2]))\n",
    "print(id(new[2]))"
   ]
  },
  {
   "cell_type": "markdown",
   "metadata": {},
   "source": [
    "# Q2：可迭代对象，迭代器，生成器\n",
    "- 可迭代对象：list,tuple,set,dict和str等可直接作用于for循环的对象，必须实现__iter__方法\n",
    "- 迭代器：任何实现了__iter__和__next__()方法的对象都是迭代器。__iter__返回迭代器自身，__next__返回容器中的下一个值\n",
    "- 生成器：是一种特殊的迭代器，只需通过yield关键字返回值，生成器一定是迭代器"
   ]
  },
  {
   "cell_type": "code",
   "execution_count": 51,
   "metadata": {},
   "outputs": [],
   "source": [
    "# 实现迭代器，需要手动实现__iter__和__next__方法\n",
    "class iterdemo():\n",
    "\n",
    "    def __init__(self):\n",
    "        self.number=1\n",
    "\n",
    "    #重写 __iter__方法，说明有可以迭代的能力（ iterable）\n",
    "    def __iter__(self):\n",
    "        print(\"__iter__\")\n",
    "        return  self\n",
    "\n",
    "    #重写 __next__方法，说明是迭代器 (iterator) \n",
    "    def __next__(self):\n",
    "        print(\"__next__\")\n",
    "        self.number += 1\n",
    "        return self.number"
   ]
  },
  {
   "cell_type": "code",
   "execution_count": 52,
   "metadata": {},
   "outputs": [
    {
     "data": {
      "text/plain": [
       "285"
      ]
     },
     "execution_count": 52,
     "metadata": {},
     "output_type": "execute_result"
    }
   ],
   "source": [
    "# 实现生成器\n",
    "# 列表生成式[]改为()\n",
    "# 函数中存在yield关键字\n",
    "demo = sum(i**2 for i in range(10))\n",
    "demo"
   ]
  },
  {
   "cell_type": "code",
   "execution_count": 53,
   "metadata": {},
   "outputs": [
    {
     "name": "stdout",
     "output_type": "stream",
     "text": [
      "<generator object number at 0x00000293023592A0>\n",
      "number =  1\n",
      "1\n",
      "number =  2\n",
      "2\n"
     ]
    },
    {
     "ename": "StopIteration",
     "evalue": "",
     "output_type": "error",
     "traceback": [
      "\u001b[1;31m---------------------------------------------------------------------------\u001b[0m",
      "\u001b[1;31mStopIteration\u001b[0m                             Traceback (most recent call last)",
      "\u001b[1;32m<ipython-input-53-17a3e9d113a6>\u001b[0m in \u001b[0;36m<module>\u001b[1;34m\u001b[0m\n\u001b[0;32m     14\u001b[0m \u001b[0mprint\u001b[0m\u001b[1;33m(\u001b[0m\u001b[0mnext\u001b[0m\u001b[1;33m(\u001b[0m\u001b[0mn\u001b[0m\u001b[1;33m)\u001b[0m\u001b[1;33m)\u001b[0m    \u001b[1;31m#第一次调用\u001b[0m\u001b[1;33m\u001b[0m\u001b[1;33m\u001b[0m\u001b[0m\n\u001b[0;32m     15\u001b[0m \u001b[0mprint\u001b[0m\u001b[1;33m(\u001b[0m\u001b[0mnext\u001b[0m\u001b[1;33m(\u001b[0m\u001b[0mn\u001b[0m\u001b[1;33m)\u001b[0m\u001b[1;33m)\u001b[0m    \u001b[1;31m#第二次调用\u001b[0m\u001b[1;33m\u001b[0m\u001b[1;33m\u001b[0m\u001b[0m\n\u001b[1;32m---> 16\u001b[1;33m \u001b[0mprint\u001b[0m\u001b[1;33m(\u001b[0m\u001b[0mnext\u001b[0m\u001b[1;33m(\u001b[0m\u001b[0mn\u001b[0m\u001b[1;33m)\u001b[0m\u001b[1;33m)\u001b[0m    \u001b[1;31m#第三次调用，报错\u001b[0m\u001b[1;33m\u001b[0m\u001b[1;33m\u001b[0m\u001b[0m\n\u001b[0m",
      "\u001b[1;31mStopIteration\u001b[0m: "
     ]
    }
   ],
   "source": [
    "#每次遇到 yield 时函数会暂停并保存当前所有的运行信息，返回 yield 的值, 并在下一次执行 next() 方法时从当前位置继续运行。\n",
    "\n",
    "def number():\n",
    "    number = 1\n",
    "    print(\"number = \",number)\n",
    "    yield number\n",
    "    number += 1\n",
    "    print(\"number = \", number)\n",
    "    yield number\n",
    "    number += 1\n",
    "\n",
    "n = number()#调用一个生成器函数，返回的是一个迭代器对象。\n",
    "print(n)  \n",
    "print(next(n))    #第一次调用\n",
    "print(next(n))    #第二次调用\n",
    "print(next(n))    #第三次调用，报错"
   ]
  },
  {
   "cell_type": "markdown",
   "metadata": {},
   "source": [
    "# Q3：is和==的区别"
   ]
  },
  {
   "cell_type": "code",
   "execution_count": 61,
   "metadata": {},
   "outputs": [
    {
     "name": "stdout",
     "output_type": "stream",
     "text": [
      "140725384557520\n",
      "140725384557520\n",
      "True\n",
      "True\n"
     ]
    }
   ],
   "source": [
    "# is是同一性运算符，比较的是对象的id值\n",
    "a = 5\n",
    "b = 5\n",
    "print(id(a))\n",
    "print(id(b))\n",
    "print(a is b)\n",
    "c = 'vodka'\n",
    "d = 'vodka'\n",
    "print(c is d)"
   ]
  },
  {
   "cell_type": "code",
   "execution_count": 62,
   "metadata": {},
   "outputs": [
    {
     "name": "stdout",
     "output_type": "stream",
     "text": [
      "2830420478792\n",
      "2830420478664\n"
     ]
    },
    {
     "data": {
      "text/plain": [
       "False"
      ]
     },
     "execution_count": 62,
     "metadata": {},
     "output_type": "execute_result"
    }
   ],
   "source": [
    "# 当比较对象为数字或者字符串时才返回True,当为列表，元组，字典和集合时，返回False\n",
    "a = [1,2,3]\n",
    "b = [1,2,3]\n",
    "print(id(a))\n",
    "print(id(b))\n",
    "a is b"
   ]
  },
  {
   "cell_type": "code",
   "execution_count": 66,
   "metadata": {},
   "outputs": [
    {
     "name": "stdout",
     "output_type": "stream",
     "text": [
      "True\n",
      "False\n"
     ]
    }
   ],
   "source": [
    "# ==为比较运算符，比较两个对象的值是否相等\n",
    "a = [1,2,3]\n",
    "b = [1,2,3]\n",
    "print(a == b)\n",
    "print(a is b)"
   ]
  }
 ],
 "metadata": {
  "kernelspec": {
   "display_name": "Python 3",
   "language": "python",
   "name": "python3"
  },
  "language_info": {
   "codemirror_mode": {
    "name": "ipython",
    "version": 3
   },
   "file_extension": ".py",
   "mimetype": "text/x-python",
   "name": "python",
   "nbconvert_exporter": "python",
   "pygments_lexer": "ipython3",
   "version": "3.7.1"
  }
 },
 "nbformat": 4,
 "nbformat_minor": 2
}
